{
 "cells": [
  {
   "cell_type": "markdown",
   "id": "da9fd6a8",
   "metadata": {},
   "source": [
    "## Getting Started with PyTorch\n",
    "\n",
    "<div class=\"alert alert-info\">\n",
    "\n",
    "<b>Summary</b>\n",
    "    \n",
    "We build a basic Transformer layer using regular Jax and Flax modules. This will be our baseline \n",
    "for later comparisons with Transformer Engine.\n",
    "\n",
    "</div>\n",
    "\n",
    "We construct the components as follows:\n",
    "\n",
    "- `LayerNorm`: `flax.linen.LayerNorm`\n",
    "- `QKV Projection`: `flax.linen.Dense` (conceptually three `Dense` layers for Q, K, and V \n",
    "  separately, but we fuse into a single `Linear` layer that is three times larger)\n",
    "- `DotProductAttention`: `DotProductAttention` from \n",
    "  [quickstart_jax_utils.py](quickstart_jax_utils.py)\n",
    "- `Projection`: `flax.linen.Dense`\n",
    "- `Dropout`: `flax.linen.Dropout`\n",
    "- `MLP`: `BasicMLP` from [quickstart_jax_utils.py](quickstart_jax_utils.py)\n",
    "\n",
    "Putting it all together:"
   ]
  },
  {
   "cell_type": "code",
   "execution_count": null,
   "id": "2be43d64",
   "metadata": {},
   "outputs": [],
   "source": [
    "import jax\n",
    "import jax.numpy as jnp\n",
    "import flax.linen as nn\n",
    "import quickstart_jax_utils as utils\n",
    "\n",
    "class BasicTransformerLayer(nn.Module):\n",
    "    hidden_size: int\n",
    "    ffn_hidden_size: int\n",
    "    num_attention_heads: int\n",
    "    layernorm_eps: int = 1e-6\n",
    "    attention_dropout: float = 0.1\n",
    "    hidden_dropout: float = 0.1\n",
    "    \n",
    "    def setup(self):\n",
    "        self.kv_channels = self.hidden_size // self.num_attention_heads\n",
    "        self.ln1 = nn.LayerNorm(self.hidden_size, epsilon=self.layernorm_eps)\n",
    "        self.qkv_projection = nn.DenseGeneral(3 * self.hidden_size, use_bias=True)\n",
    "        self.attention = utils.DotProductAttention(\n",
    "            num_attention_heads=self.num_attention_heads,\n",
    "            kv_channels=self.kv_channels,\n",
    "            attention_dropout=self.attention_dropout\n",
    "        )\n",
    "        self.projection = nn.DenseGeneral(self.hidden_size, bias=True)\n",
    "        self.dropout = nn.Dropout(self.hidden_dropout, rng_collection='hidden')\n",
    "        self.ln2 = nn.LayerNorm(self.hidden_size, epsilon=self.layernorm_eps)\n",
    "        self.mlp = utils.BasicMLP(\n",
    "            hidden_size=self.hidden_size,\n",
    "            ffn_hidden_size=self.ffn_hidden_size,\n",
    "        ) \n",
    "        \n",
    "    def __call__(\n",
    "        self, \n",
    "        x: jnp.ndarray,\n",
    "        attention_mask: jnp.ndarray\n",
    "    ) -> jnp.ndarray:\n",
    "        res = x\n",
    "        x = self.ln1(x)\n",
    "        \n",
    "        # Fused QKV projection\n",
    "        qkv = self.qkv_projection(x)\n",
    "        qkv = qkv.view(qkv.size(0), qkv.size(1), self.num_attention_heads, 3 * self.kv_channels)\n",
    "        q, k, v = jnp.split(qkv, qkv.size(3) // 3, axis=3)\n",
    "        \n",
    "        x = self.attention(q, k, v, attention_mask)\n",
    "        x = self.projection(x)\n",
    "        x = self.dropout(x)\n",
    "        x = res + x\n",
    "        res = x\n",
    "        x = self.ln2(x)\n",
    "        x = self.mlp(x)\n",
    "        \n",
    "        return x + res"
   ]
  },
  {
   "cell_type": "markdown",
   "id": "40724d1d",
   "metadata": {},
   "source": [
    "That's it! We now have a simple Transformer layer. We can test it:"
   ]
  },
  {
   "cell_type": "code",
   "execution_count": 2,
   "id": "a786f0ea",
   "metadata": {},
   "outputs": [],
   "source": [
    "# Layer configuration:\n",
    "hidden_size = 4096\n",
    "sequence_length = 2048\n",
    "batch_size = 4\n",
    "ffn_hidden_size = 16384\n",
    "num_attention_heads = 32\n",
    "dtype = jnp.float16\n",
    "\n",
    "# Create the necessary RNG keys:\n",
    "#   The dropout in DotProductAttention will use the 'attention' key group, while\n",
    "#   the hidden layer dropout in BasicTransformerLayer will use 'hidden' key group.\n",
    "root_key = jax.random.PRNGKey(seed=0)\n",
    "fwd_key, bwd_key, params_key, attention_key, hidden_key = jax.random.split(root_key, 5)\n",
    "\n",
    "# Synthetic data:\n",
    "x = jax.device_put(\n",
    "    jax.random.uniform(fwd_key, (sequence_length, batch_size, hidden_size), dtype=dtype)\n",
    ")\n",
    "dy = jax.device_put(\n",
    "    jax.random.uniform(bwd_key, (sequence_length, batch_size, hidden_size), dtype=dtype)\n",
    ")"
   ]
  },
  {
   "cell_type": "code",
   "execution_count": 3,
   "id": "ffdbfb7a",
   "metadata": {},
   "outputs": [
    {
     "data": {
      "text/plain": [
       "BasicTransformerLayer(\n",
       "  (ln1): LayerNorm((4096,), eps=1e-05, elementwise_affine=True)\n",
       "  (qkv_projection): Linear(in_features=4096, out_features=12288, bias=True)\n",
       "  (attention): DotProductAttention(\n",
       "    (dropout): Dropout(p=0.1, inplace=False)\n",
       "  )\n",
       "  (projection): Linear(in_features=4096, out_features=4096, bias=True)\n",
       "  (dropout): Dropout(p=0.1, inplace=False)\n",
       "  (ln2): LayerNorm((4096,), eps=1e-05, elementwise_affine=True)\n",
       "  (mlp): BasicMLP(\n",
       "    (linear1): Linear(in_features=4096, out_features=16384, bias=True)\n",
       "    (linear2): Linear(in_features=16384, out_features=4096, bias=True)\n",
       "  )\n",
       ")"
      ]
     },
     "execution_count": 3,
     "metadata": {},
     "output_type": "execute_result"
    }
   ],
   "source": [
    "basic_transformer = BasicTransformerLayer(\n",
    "    hidden_size,\n",
    "    ffn_hidden_size,\n",
    "    num_attention_heads\n",
    ")\n",
    "basic_transformer"
   ]
  },
  {
   "cell_type": "code",
   "execution_count": 4,
   "id": "0162ad40",
   "metadata": {},
   "outputs": [],
   "source": [
    "flax_params = basic_transformer.init(params_key, train=True)\n",
    "y = basic_transformer.apply(flax_params, x, attention_mask=None)"
   ]
  },
  {
   "cell_type": "code",
   "execution_count": 5,
   "id": "65ae6dd6",
   "metadata": {},
   "outputs": [
    {
     "name": "stdout",
     "output_type": "stream",
     "text": [
      "Mean time: 43.0663916015625 ms\n"
     ]
    }
   ],
   "source": [
    "utils.speedometer(\n",
    "    basic_transformer,\n",
    "    flax_params,\n",
    "    x,\n",
    "    dy,\n",
    "    forward_kwargs = { \"attention_mask\": None },\n",
    ")"
   ]
  },
  {
   "cell_type": "markdown",
   "id": "43717e36",
   "metadata": {},
   "source": [
    "## Meet Transformer Engine\n",
    "\n",
    "<div class=\"alert alert-info\">\n",
    "\n",
    "<b>Summary</b>\n",
    "    \n",
    "We modify the example Transformer layer to include the simplest TE modules: `Linear` and `LayerNorm`.\n",
    "\n",
    "</div>\n",
    "\n",
    "Now that we have a basic Transformer layer, let's use Transformer Engine to speed up the training. "
   ]
  },
  {
   "cell_type": "code",
   "execution_count": null,
   "metadata": {},
   "outputs": [],
   "source": [
    "import transformer_engine.jax as te"
   ]
  },
  {
   "cell_type": "markdown",
   "id": "1931f911",
   "metadata": {},
   "source": [
    "TE provides a set of PyTorch modules that can be used to build Transformer layers. The simplest of the provided modules are the `Linear` and `LayerNorm` layers, which we can use instead of `torch.nn.Linear` and `torch.nn.LayerNorm`. Let's modify `BasicTransformerLayer`:"
   ]
  },
  {
   "cell_type": "code",
   "execution_count": 7,
   "id": "1f44db50",
   "metadata": {},
   "outputs": [],
   "source": [
    "class BasicTEMLP(nn.Module):\n",
    "    def __init__(self,\n",
    "                 hidden_size: int,\n",
    "                 ffn_hidden_size: int) -> None:\n",
    "        super().__init__()\n",
    "        self.linear1 = te.flax.DenseGeneral(ffn_hidden_size, use_bias=True)\n",
    "        self.linear2 = te.flax.DenseGeneral(hidden_size, use_bias=True)\n",
    "\n",
    "    def __call__(self, x):\n",
    "        x = self.linear1(x)\n",
    "        x = jax.nn.gelu(x, approximate=True)\n",
    "        x = self.linear2(x)\n",
    "        return x    \n",
    "    \n",
    "class BasicTETransformerLayer(nn.Module):\n",
    "    hidden_size: int\n",
    "    ffn_hidden_size: int\n",
    "    num_attention_heads: int\n",
    "    layernorm_eps: int = 1e-6\n",
    "    attention_dropout: float = 0.1\n",
    "    hidden_dropout: float = 0.1\n",
    "                 \n",
    "    def setup(self):\n",
    "        self.kv_channels = self.hidden_size // self.num_attention_heads\n",
    "        self.ln1 = te.flax.LayerNorm(self.hidden_size, epsilon=self.layernorm_eps)\n",
    "        self.qkv_projection = te.flax.DenseGeneral(3 * self.hidden_size, use_bias=True)\n",
    "        self.attention = utils.DotProductAttention(\n",
    "            num_attention_heads=self.num_attention_heads,\n",
    "            kv_channels=self.kv_channels,\n",
    "            attention_dropout=self.attention_dropout,\n",
    "        )\n",
    "        self.projection = te.flax.DenseGeneral(hidden_size, use_bias=True)\n",
    "        self.dropout = nn.Dropout(self.hidden_dropout, rng_collection='hidden')\n",
    "        self.ln2 = te.flax.LayerNorm(hidden_size, eps=self.layernorm_eps)\n",
    "        self.mlp = BasicTEMLP(\n",
    "            hidden_size=self.hidden_size,\n",
    "            ffn_hidden_size=self.ffn_hidden_size,\n",
    "        )\n",
    "        \n",
    "    def __call__(self, \n",
    "                x: jnp.ndarray, \n",
    "                attention_mask: jnp.ndarray):\n",
    "        res = x\n",
    "        x = self.ln1(x)\n",
    "        \n",
    "        # Fused QKV projection\n",
    "        qkv = self.qkv_projection(x)\n",
    "        qkv = qkv.view(qkv.size(0), qkv.size(1), self.num_attention_heads, 3 * self.kv_channels)\n",
    "        q, k, v = jnp.split(qkv, qkv.size(3) // 3, dim=3)\n",
    "        \n",
    "        x = self.attention(q, k, v, attention_mask)\n",
    "        x = self.projection(x)\n",
    "        x = self.dropout(x)\n",
    "        x = res + x\n",
    "        res = x\n",
    "        x = self.ln2(x)\n",
    "        x = self.mlp(x)\n",
    "        \n",
    "        return x + res"
   ]
  },
  {
   "cell_type": "code",
   "execution_count": 8,
   "id": "916531e8",
   "metadata": {},
   "outputs": [],
   "source": [
    "basic_te_transformer = BasicTETransformerLayer(\n",
    "    hidden_size, \n",
    "    ffn_hidden_size, \n",
    "    num_attention_heads,\n",
    ")\n",
    "te_params = basic_te_transformer.init(params_key, train=True)\n",
    "y = basic_te_transformer.apply(te_params, x, attention_mask=None)"
   ]
  },
  {
   "cell_type": "code",
   "execution_count": 10,
   "id": "10b92894",
   "metadata": {},
   "outputs": [
    {
     "name": "stdout",
     "output_type": "stream",
     "text": [
      "Mean time: 43.1413232421875 ms\n"
     ]
    }
   ],
   "source": [
    "utils.speedometer(\n",
    "    basic_te_transformer,\n",
    "    te_params,\n",
    "    x,\n",
    "    dy,\n",
    "    forward_kwargs = { \"attention_mask\": None },\n",
    ")"
   ]
  },
  {
   "cell_type": "markdown",
   "id": "3f990226",
   "metadata": {},
   "source": [
    "## Fused TE Modules\n",
    "\n",
    "<div class=\"alert alert-info\">\n",
    "\n",
    "<b>Summary</b>\n",
    "    \n",
    "We optimize the example Transformer layer with TE modules for fused operations.\n",
    "\n",
    "</div>\n",
    "\n",
    "The `Linear` layer is enough to build any Transformer model and it enables usage of Transformer Engine even for very custom Transformers. However, having more knowledge about the model allows for additional optimizations like kernel fusion, increasing the achievable speedup.\n",
    "\n",
    "Transformer Engine therefore provides coarser modules that span multiple layers:\n",
    "\n",
    "* `LayerNormLinear`\n",
    "* `LayerNormMLP`\n",
    "* `TransformerLayer`\n",
    "\n",
    "Building a third iteration of our Transformer layer with `LayerNormLinear` and `LayerNormMLP`:"
   ]
  },
  {
   "cell_type": "code",
   "execution_count": 11,
   "id": "c55eae1f",
   "metadata": {},
   "outputs": [],
   "source": [
    "class FusedTETransformerLayer(nn.Module):\n",
    "    hidden_size: int\n",
    "    ffn_hidden_size: int\n",
    "    num_attention_heads: int\n",
    "    layernorm_eps: int = 1e-6\n",
    "    attention_dropout: float = 0.1\n",
    "    hidden_dropout: float = 0.1\n",
    "\n",
    "    def setup(self):\n",
    "        self.kv_channels = self.hidden_size // self.num_attention_heads\n",
    "        self.ln_qkv = te.flax.LayerNormDenseGeneral(\n",
    "            3 * hidden_size,\n",
    "            epsilon=self.layernorm_eps,\n",
    "            use_bias=True\n",
    "        )\n",
    "        self.attention = utils.DotProductAttention(\n",
    "            num_attention_heads=num_attention_heads,\n",
    "            kv_channels=self.kv_channels,\n",
    "            attention_dropout=self.attention_dropout,\n",
    "        )\n",
    "        self.projection = te.flax.DenseGeneral(self.hidden_size, use_bias=True)\n",
    "        self.dropout = nn.Dropout(self.hidden_dropout, rng_collection='hidden')\n",
    "        self.ln_mlp = te.flax.LayerNormMLP(\n",
    "            ffn_hidden_size,\n",
    "            epsilon=self.layernorm_eps,\n",
    "            use_bias=True,\n",
    "            intermediate_dropout_rate=0.0)\n",
    "\n",
    "\n",
    "    def __call__(self, \n",
    "                x: jnp.ndarray, \n",
    "                attention_mask: jnp.ndarray):\n",
    "        res = x\n",
    "        qkv = self.ln_qkv(x)\n",
    "        \n",
    "        # Split qkv into query, key and value\n",
    "        qkv = qkv.view(qkv.size(0), qkv.size(1), self.num_attention_heads, 3 * self.kv_channels)\n",
    "        q, k, v = jnp.split(qkv, qkv.size(3) // 3, dim=3)\n",
    "        \n",
    "        x = self.attention(q, k, v, attention_mask)\n",
    "        x = self.projection(x)\n",
    "        x = self.dropout(x)\n",
    "        x = res + x\n",
    "        res = x\n",
    "        x = self.ln_mlp(x)\n",
    "        \n",
    "        return x + res"
   ]
  },
  {
   "cell_type": "code",
   "execution_count": 12,
   "id": "85949421",
   "metadata": {},
   "outputs": [],
   "source": [
    "fused_te_transformer = FusedTETransformerLayer(hidden_size, ffn_hidden_size, num_attention_heads)\n",
    "fused_te_params = fused_te_transformer.init(params_key, train=True)\n",
    "y = fused_te_transformer.apply(fused_te_params, x, attention_mask=None)"
   ]
  },
  {
   "cell_type": "code",
   "execution_count": 14,
   "id": "24e101bc",
   "metadata": {},
   "outputs": [
    {
     "name": "stdout",
     "output_type": "stream",
     "text": [
      "Mean time: 43.1981201171875 ms\n"
     ]
    }
   ],
   "source": [
    "utils.speedometer(\n",
    "    fused_te_transformer,\n",
    "    fused_te_params,\n",
    "    x,\n",
    "    dy,\n",
    "    forward_kwargs = { \"attention_mask\": None },\n",
    ")"
   ]
  },
  {
   "cell_type": "markdown",
   "id": "33f13c26",
   "metadata": {},
   "source": [
    "Finally, the `TransformerLayer` module is convenient for creating standard Transformer architectures and it provides the highest degree of performance optimization:"
   ]
  },
  {
   "cell_type": "code",
   "execution_count": 15,
   "id": "ec8c3685",
   "metadata": {},
   "outputs": [],
   "source": [
    "te_transformer = te.flax.TransformerLayer(hidden_size, ffn_hidden_size, num_attention_heads)\n",
    "transformer_params = te_transformer.init(params_key, train=True)\n",
    "y = te_transformer.apply(transformer_params, x, attention_mask=None)"
   ]
  },
  {
   "cell_type": "code",
   "execution_count": 17,
   "id": "3ec3707d-e63f-4899-8308-b11c55b5caa4",
   "metadata": {},
   "outputs": [
    {
     "name": "stdout",
     "output_type": "stream",
     "text": [
      "Mean time: 39.99169921875 ms\n"
     ]
    }
   ],
   "source": [
    "utils.speedometer(\n",
    "    te_transformer,\n",
    "    transformer_params,\n",
    "    x,\n",
    "    dy,\n",
    "    forward_kwargs = { \"attention_mask\": None },\n",
    ")"
   ]
  },
  {
   "cell_type": "markdown",
   "id": "4034c3eb-8958-49f2-85f6-30c94977d884",
   "metadata": {},
   "source": [
    "## Enabling FP8\n",
    "\n",
    "<div class=\"alert alert-info\">\n",
    "\n",
    "<b>Summary</b>\n",
    "    \n",
    "We configure a TE module to perform compute in FP8.\n",
    "\n",
    "</div>\n",
    "\n",
    "Enabling FP8 support is very simple in Transformer Engine. We just need to wrap the modules within an [fp8_autocast](../api/pytorch.rst#transformer_engine.pytorch.fp8_autocast) context manager. Note that fp8_autocast should only be used to wrap the forward pass and must exit before starting a backward pass. See the [FP8 tutorial](fp8_primer.ipynb) for a detailed explanation of FP8 recipes and the supported options."
   ]
  },
  {
   "cell_type": "code",
   "execution_count": 18,
   "id": "31256aa7-3d5e-425c-91ab-502b1326a748",
   "metadata": {},
   "outputs": [],
   "source": [
    "from transformer_engine.common.recipe import Format, DelayedScaling\n",
    "\n",
    "te_transformer = te.TransformerLayer(hidden_size, ffn_hidden_size, num_attention_heads)\n",
    "te_transformer.to(dtype=dtype).cuda()\n",
    "utils.share_parameters_with_transformerlayer_te_model(te_transformer, basic_transformer)\n",
    "\n",
    "fp8_format = Format.HYBRID\n",
    "fp8_recipe = DelayedScaling(fp8_format=fp8_format, amax_history_len=16, amax_compute_algo=\"max\")\n",
    "torch.manual_seed(1234)\n",
    "with te.fp8_autocast(enabled=True, fp8_recipe=fp8_recipe):\n",
    "    y = te_transformer(x, attention_mask=None)"
   ]
  },
  {
   "cell_type": "code",
   "execution_count": 19,
   "id": "793ebd2d-b84b-47bc-811a-7991df8500aa",
   "metadata": {},
   "outputs": [
    {
     "name": "stdout",
     "output_type": "stream",
     "text": [
      "Mean time: 28.61394775390625 ms\n"
     ]
    }
   ],
   "source": [
    "utils.speedometer(\n",
    "    te_transformer,\n",
    "    x,\n",
    "    dy,\n",
    "    forward_kwargs = { \"attention_mask\": None },\n",
    "    fp8_autocast_kwargs = { \"enabled\": True, \"fp8_recipe\": fp8_recipe },\n",
    ")"
   ]
  }
 ],
 "metadata": {
  "language_info": {
   "name": "python"
  }
 },
 "nbformat": 4,
 "nbformat_minor": 5
}
